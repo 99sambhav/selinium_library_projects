{
 "cells": [
  {
   "cell_type": "code",
   "execution_count": null,
   "id": "bef1a8a3",
   "metadata": {},
   "outputs": [],
   "source": [
    "from selenium import webdriver\n",
    "import pandas as pd\n",
    "import time"
   ]
  },
  {
   "cell_type": "code",
   "execution_count": null,
   "id": "9c430e22",
   "metadata": {},
   "outputs": [],
   "source": [
    "driver = webdriver.Edge(\"./edgedriver_win64/msedgedriver.exe\")"
   ]
  },
  {
   "cell_type": "code",
   "execution_count": null,
   "id": "84a61ed7",
   "metadata": {},
   "outputs": [],
   "source": [
    "driver.get('https://www.justdial.com/Shop-Online/Mobile-Phone/nid-11216691?city=Delhi&sort=pop_desc')"
   ]
  },
  {
   "cell_type": "code",
   "execution_count": null,
   "id": "e616245c",
   "metadata": {},
   "outputs": [],
   "source": [
    "data_base = pd.DataFrame({},columns =['img_link','name','rating' ,'price'])"
   ]
  },
  {
   "cell_type": "code",
   "execution_count": null,
   "id": "fe18c622",
   "metadata": {},
   "outputs": [],
   "source": [
    "for a in range(0,3):\n",
    "    for i in range(50):\n",
    "        driver.execute_script(\"window.scrollTo(0, document.body.scrollHeight);\") \n",
    "        driver.execute_script(\"window.scrollTo(0, document.body.scrollHeight-1000);\")\n",
    "    all_list = list(driver.find_elements_by_class_name(\"shopbox\") )\n",
    "    for each_box in all_list:\n",
    "        img_link= each_box.find_element_by_tag_name(\"img\").get_attribute(\"src\")\n",
    "        name = each_box.find_element_by_class_name(\"disp_height\").text\n",
    "        rating_sum1 =0\n",
    "        insider=list(each_box.find_element_by_class_name(\"stars_m\").find_elements_by_tag_name(\"span\"))\n",
    "        for each_rating in insider:\n",
    "            spliter = list(each_rating.get_attribute(\"class\"))\n",
    "            if len(spliter)==7 :\n",
    "                rating_part1 =10 \n",
    "            else :\n",
    "                rating_part1 =  int(spliter[-1])\n",
    "            rating_sum1 = rating_part1 + rating_sum1 \n",
    "        rating = float(rating_sum1/10) \n",
    "        rating_sum1=0\n",
    "        price = each_box.find_element_by_class_name(\"dt_price\").text\n",
    "        data_base = data_base.append({'img_link':img_link ,'name':name ,'rating' : rating ,'price' : price} ,ignore_index =True)\n",
    "    button = driver.find_element_by_xpath('//*[@id=\"https://www.justdial.com/\"]/a')\n",
    "    button.click()\n",
    "driver.quit()   "
   ]
  },
  {
   "cell_type": "code",
   "execution_count": null,
   "id": "b77811f9",
   "metadata": {},
   "outputs": [],
   "source": [
    "data_base"
   ]
  },
  {
   "cell_type": "code",
   "execution_count": null,
   "id": "0ae23bbf",
   "metadata": {},
   "outputs": [],
   "source": [
    "driver.quit()  "
   ]
  },
  {
   "cell_type": "code",
   "execution_count": null,
   "id": "16a39ccd",
   "metadata": {},
   "outputs": [],
   "source": [
    "data_base.to_csv(\"justdial.csv\" ,index =False)"
   ]
  },
  {
   "cell_type": "code",
   "execution_count": null,
   "id": "5b2b85c6",
   "metadata": {},
   "outputs": [],
   "source": []
  }
 ],
 "metadata": {
  "kernelspec": {
   "display_name": "Python 3",
   "language": "python",
   "name": "python3"
  },
  "language_info": {
   "codemirror_mode": {
    "name": "ipython",
    "version": 3
   },
   "file_extension": ".py",
   "mimetype": "text/x-python",
   "name": "python",
   "nbconvert_exporter": "python",
   "pygments_lexer": "ipython3",
   "version": "3.8.8"
  }
 },
 "nbformat": 4,
 "nbformat_minor": 5
}
